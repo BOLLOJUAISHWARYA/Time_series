{
  "nbformat": 4,
  "nbformat_minor": 0,
  "metadata": {
    "colab": {
      "name": "GRU_multivariate.ipynb",
      "provenance": [],
      "collapsed_sections": [],
      "mount_file_id": "1Gg6Zenq-cjRhzaEscjcAhHGzb_0o0oVu",
      "authorship_tag": "ABX9TyMRskdVM+gfccTCEtmCieG6",
      "include_colab_link": true
    },
    "kernelspec": {
      "name": "python3",
      "display_name": "Python 3"
    },
    "language_info": {
      "name": "python"
    }
  },
  "cells": [
    {
      "cell_type": "markdown",
      "metadata": {
        "id": "view-in-github",
        "colab_type": "text"
      },
      "source": [
        "<a href=\"https://colab.research.google.com/github/BOLLOJUAISHWARYA/Time_series/blob/main/GRU_multivariate.ipynb\" target=\"_parent\"><img src=\"https://colab.research.google.com/assets/colab-badge.svg\" alt=\"Open In Colab\"/></a>"
      ]
    },
    {
      "cell_type": "code",
      "execution_count": 10,
      "metadata": {
        "id": "XgszjvSZhyuZ"
      },
      "outputs": [],
      "source": [
        "#Importing libraries and loading dataset\n",
        "import numpy as np\n",
        "from datetime import datetime\n",
        "from math import sqrt\n",
        "from numpy import concatenate\n",
        "from matplotlib import pyplot\n",
        "from pandas import read_csv\n",
        "from pandas import DataFrame\n",
        "from pandas import concat\n",
        "from sklearn.preprocessing import MinMaxScaler\n",
        "from sklearn.preprocessing import LabelEncoder\n",
        "from sklearn.metrics import mean_squared_error\n",
        "from keras.models import Sequential\n",
        "from keras.layers import Dense,Dropout\n",
        "from keras.layers import GRU"
      ]
    },
    {
      "cell_type": "code",
      "source": [
        "df = read_csv('/content/drive/MyDrive/Datasets/pollution.csv')\n",
        "df"
      ],
      "metadata": {
        "colab": {
          "base_uri": "https://localhost:8080/",
          "height": 424
        },
        "id": "r7FjmjWMrBTj",
        "outputId": "c96fafd3-e880-4687-d58d-fbf868550fc7"
      },
      "execution_count": 11,
      "outputs": [
        {
          "output_type": "execute_result",
          "data": {
            "text/plain": [
              "          No  year  month  day  hour  pm2.5  DEWP  TEMP    PRES cbwd     Iws  \\\n",
              "0          1  2010      1    1     0    NaN   -21 -11.0  1021.0   NW    1.79   \n",
              "1          2  2010      1    1     1    NaN   -21 -12.0  1020.0   NW    4.92   \n",
              "2          3  2010      1    1     2    NaN   -21 -11.0  1019.0   NW    6.71   \n",
              "3          4  2010      1    1     3    NaN   -21 -14.0  1019.0   NW    9.84   \n",
              "4          5  2010      1    1     4    NaN   -20 -12.0  1018.0   NW   12.97   \n",
              "...      ...   ...    ...  ...   ...    ...   ...   ...     ...  ...     ...   \n",
              "43819  43820  2014     12   31    19    8.0   -23  -2.0  1034.0   NW  231.97   \n",
              "43820  43821  2014     12   31    20   10.0   -22  -3.0  1034.0   NW  237.78   \n",
              "43821  43822  2014     12   31    21   10.0   -22  -3.0  1034.0   NW  242.70   \n",
              "43822  43823  2014     12   31    22    8.0   -22  -4.0  1034.0   NW  246.72   \n",
              "43823  43824  2014     12   31    23   12.0   -21  -3.0  1034.0   NW  249.85   \n",
              "\n",
              "       Is  Ir  \n",
              "0       0   0  \n",
              "1       0   0  \n",
              "2       0   0  \n",
              "3       0   0  \n",
              "4       0   0  \n",
              "...    ..  ..  \n",
              "43819   0   0  \n",
              "43820   0   0  \n",
              "43821   0   0  \n",
              "43822   0   0  \n",
              "43823   0   0  \n",
              "\n",
              "[43824 rows x 13 columns]"
            ],
            "text/html": [
              "\n",
              "  <div id=\"df-b3dad38c-3b93-46f8-9f49-4f6341fd02c1\">\n",
              "    <div class=\"colab-df-container\">\n",
              "      <div>\n",
              "<style scoped>\n",
              "    .dataframe tbody tr th:only-of-type {\n",
              "        vertical-align: middle;\n",
              "    }\n",
              "\n",
              "    .dataframe tbody tr th {\n",
              "        vertical-align: top;\n",
              "    }\n",
              "\n",
              "    .dataframe thead th {\n",
              "        text-align: right;\n",
              "    }\n",
              "</style>\n",
              "<table border=\"1\" class=\"dataframe\">\n",
              "  <thead>\n",
              "    <tr style=\"text-align: right;\">\n",
              "      <th></th>\n",
              "      <th>No</th>\n",
              "      <th>year</th>\n",
              "      <th>month</th>\n",
              "      <th>day</th>\n",
              "      <th>hour</th>\n",
              "      <th>pm2.5</th>\n",
              "      <th>DEWP</th>\n",
              "      <th>TEMP</th>\n",
              "      <th>PRES</th>\n",
              "      <th>cbwd</th>\n",
              "      <th>Iws</th>\n",
              "      <th>Is</th>\n",
              "      <th>Ir</th>\n",
              "    </tr>\n",
              "  </thead>\n",
              "  <tbody>\n",
              "    <tr>\n",
              "      <th>0</th>\n",
              "      <td>1</td>\n",
              "      <td>2010</td>\n",
              "      <td>1</td>\n",
              "      <td>1</td>\n",
              "      <td>0</td>\n",
              "      <td>NaN</td>\n",
              "      <td>-21</td>\n",
              "      <td>-11.0</td>\n",
              "      <td>1021.0</td>\n",
              "      <td>NW</td>\n",
              "      <td>1.79</td>\n",
              "      <td>0</td>\n",
              "      <td>0</td>\n",
              "    </tr>\n",
              "    <tr>\n",
              "      <th>1</th>\n",
              "      <td>2</td>\n",
              "      <td>2010</td>\n",
              "      <td>1</td>\n",
              "      <td>1</td>\n",
              "      <td>1</td>\n",
              "      <td>NaN</td>\n",
              "      <td>-21</td>\n",
              "      <td>-12.0</td>\n",
              "      <td>1020.0</td>\n",
              "      <td>NW</td>\n",
              "      <td>4.92</td>\n",
              "      <td>0</td>\n",
              "      <td>0</td>\n",
              "    </tr>\n",
              "    <tr>\n",
              "      <th>2</th>\n",
              "      <td>3</td>\n",
              "      <td>2010</td>\n",
              "      <td>1</td>\n",
              "      <td>1</td>\n",
              "      <td>2</td>\n",
              "      <td>NaN</td>\n",
              "      <td>-21</td>\n",
              "      <td>-11.0</td>\n",
              "      <td>1019.0</td>\n",
              "      <td>NW</td>\n",
              "      <td>6.71</td>\n",
              "      <td>0</td>\n",
              "      <td>0</td>\n",
              "    </tr>\n",
              "    <tr>\n",
              "      <th>3</th>\n",
              "      <td>4</td>\n",
              "      <td>2010</td>\n",
              "      <td>1</td>\n",
              "      <td>1</td>\n",
              "      <td>3</td>\n",
              "      <td>NaN</td>\n",
              "      <td>-21</td>\n",
              "      <td>-14.0</td>\n",
              "      <td>1019.0</td>\n",
              "      <td>NW</td>\n",
              "      <td>9.84</td>\n",
              "      <td>0</td>\n",
              "      <td>0</td>\n",
              "    </tr>\n",
              "    <tr>\n",
              "      <th>4</th>\n",
              "      <td>5</td>\n",
              "      <td>2010</td>\n",
              "      <td>1</td>\n",
              "      <td>1</td>\n",
              "      <td>4</td>\n",
              "      <td>NaN</td>\n",
              "      <td>-20</td>\n",
              "      <td>-12.0</td>\n",
              "      <td>1018.0</td>\n",
              "      <td>NW</td>\n",
              "      <td>12.97</td>\n",
              "      <td>0</td>\n",
              "      <td>0</td>\n",
              "    </tr>\n",
              "    <tr>\n",
              "      <th>...</th>\n",
              "      <td>...</td>\n",
              "      <td>...</td>\n",
              "      <td>...</td>\n",
              "      <td>...</td>\n",
              "      <td>...</td>\n",
              "      <td>...</td>\n",
              "      <td>...</td>\n",
              "      <td>...</td>\n",
              "      <td>...</td>\n",
              "      <td>...</td>\n",
              "      <td>...</td>\n",
              "      <td>...</td>\n",
              "      <td>...</td>\n",
              "    </tr>\n",
              "    <tr>\n",
              "      <th>43819</th>\n",
              "      <td>43820</td>\n",
              "      <td>2014</td>\n",
              "      <td>12</td>\n",
              "      <td>31</td>\n",
              "      <td>19</td>\n",
              "      <td>8.0</td>\n",
              "      <td>-23</td>\n",
              "      <td>-2.0</td>\n",
              "      <td>1034.0</td>\n",
              "      <td>NW</td>\n",
              "      <td>231.97</td>\n",
              "      <td>0</td>\n",
              "      <td>0</td>\n",
              "    </tr>\n",
              "    <tr>\n",
              "      <th>43820</th>\n",
              "      <td>43821</td>\n",
              "      <td>2014</td>\n",
              "      <td>12</td>\n",
              "      <td>31</td>\n",
              "      <td>20</td>\n",
              "      <td>10.0</td>\n",
              "      <td>-22</td>\n",
              "      <td>-3.0</td>\n",
              "      <td>1034.0</td>\n",
              "      <td>NW</td>\n",
              "      <td>237.78</td>\n",
              "      <td>0</td>\n",
              "      <td>0</td>\n",
              "    </tr>\n",
              "    <tr>\n",
              "      <th>43821</th>\n",
              "      <td>43822</td>\n",
              "      <td>2014</td>\n",
              "      <td>12</td>\n",
              "      <td>31</td>\n",
              "      <td>21</td>\n",
              "      <td>10.0</td>\n",
              "      <td>-22</td>\n",
              "      <td>-3.0</td>\n",
              "      <td>1034.0</td>\n",
              "      <td>NW</td>\n",
              "      <td>242.70</td>\n",
              "      <td>0</td>\n",
              "      <td>0</td>\n",
              "    </tr>\n",
              "    <tr>\n",
              "      <th>43822</th>\n",
              "      <td>43823</td>\n",
              "      <td>2014</td>\n",
              "      <td>12</td>\n",
              "      <td>31</td>\n",
              "      <td>22</td>\n",
              "      <td>8.0</td>\n",
              "      <td>-22</td>\n",
              "      <td>-4.0</td>\n",
              "      <td>1034.0</td>\n",
              "      <td>NW</td>\n",
              "      <td>246.72</td>\n",
              "      <td>0</td>\n",
              "      <td>0</td>\n",
              "    </tr>\n",
              "    <tr>\n",
              "      <th>43823</th>\n",
              "      <td>43824</td>\n",
              "      <td>2014</td>\n",
              "      <td>12</td>\n",
              "      <td>31</td>\n",
              "      <td>23</td>\n",
              "      <td>12.0</td>\n",
              "      <td>-21</td>\n",
              "      <td>-3.0</td>\n",
              "      <td>1034.0</td>\n",
              "      <td>NW</td>\n",
              "      <td>249.85</td>\n",
              "      <td>0</td>\n",
              "      <td>0</td>\n",
              "    </tr>\n",
              "  </tbody>\n",
              "</table>\n",
              "<p>43824 rows × 13 columns</p>\n",
              "</div>\n",
              "      <button class=\"colab-df-convert\" onclick=\"convertToInteractive('df-b3dad38c-3b93-46f8-9f49-4f6341fd02c1')\"\n",
              "              title=\"Convert this dataframe to an interactive table.\"\n",
              "              style=\"display:none;\">\n",
              "        \n",
              "  <svg xmlns=\"http://www.w3.org/2000/svg\" height=\"24px\"viewBox=\"0 0 24 24\"\n",
              "       width=\"24px\">\n",
              "    <path d=\"M0 0h24v24H0V0z\" fill=\"none\"/>\n",
              "    <path d=\"M18.56 5.44l.94 2.06.94-2.06 2.06-.94-2.06-.94-.94-2.06-.94 2.06-2.06.94zm-11 1L8.5 8.5l.94-2.06 2.06-.94-2.06-.94L8.5 2.5l-.94 2.06-2.06.94zm10 10l.94 2.06.94-2.06 2.06-.94-2.06-.94-.94-2.06-.94 2.06-2.06.94z\"/><path d=\"M17.41 7.96l-1.37-1.37c-.4-.4-.92-.59-1.43-.59-.52 0-1.04.2-1.43.59L10.3 9.45l-7.72 7.72c-.78.78-.78 2.05 0 2.83L4 21.41c.39.39.9.59 1.41.59.51 0 1.02-.2 1.41-.59l7.78-7.78 2.81-2.81c.8-.78.8-2.07 0-2.86zM5.41 20L4 18.59l7.72-7.72 1.47 1.35L5.41 20z\"/>\n",
              "  </svg>\n",
              "      </button>\n",
              "      \n",
              "  <style>\n",
              "    .colab-df-container {\n",
              "      display:flex;\n",
              "      flex-wrap:wrap;\n",
              "      gap: 12px;\n",
              "    }\n",
              "\n",
              "    .colab-df-convert {\n",
              "      background-color: #E8F0FE;\n",
              "      border: none;\n",
              "      border-radius: 50%;\n",
              "      cursor: pointer;\n",
              "      display: none;\n",
              "      fill: #1967D2;\n",
              "      height: 32px;\n",
              "      padding: 0 0 0 0;\n",
              "      width: 32px;\n",
              "    }\n",
              "\n",
              "    .colab-df-convert:hover {\n",
              "      background-color: #E2EBFA;\n",
              "      box-shadow: 0px 1px 2px rgba(60, 64, 67, 0.3), 0px 1px 3px 1px rgba(60, 64, 67, 0.15);\n",
              "      fill: #174EA6;\n",
              "    }\n",
              "\n",
              "    [theme=dark] .colab-df-convert {\n",
              "      background-color: #3B4455;\n",
              "      fill: #D2E3FC;\n",
              "    }\n",
              "\n",
              "    [theme=dark] .colab-df-convert:hover {\n",
              "      background-color: #434B5C;\n",
              "      box-shadow: 0px 1px 3px 1px rgba(0, 0, 0, 0.15);\n",
              "      filter: drop-shadow(0px 1px 2px rgba(0, 0, 0, 0.3));\n",
              "      fill: #FFFFFF;\n",
              "    }\n",
              "  </style>\n",
              "\n",
              "      <script>\n",
              "        const buttonEl =\n",
              "          document.querySelector('#df-b3dad38c-3b93-46f8-9f49-4f6341fd02c1 button.colab-df-convert');\n",
              "        buttonEl.style.display =\n",
              "          google.colab.kernel.accessAllowed ? 'block' : 'none';\n",
              "\n",
              "        async function convertToInteractive(key) {\n",
              "          const element = document.querySelector('#df-b3dad38c-3b93-46f8-9f49-4f6341fd02c1');\n",
              "          const dataTable =\n",
              "            await google.colab.kernel.invokeFunction('convertToInteractive',\n",
              "                                                     [key], {});\n",
              "          if (!dataTable) return;\n",
              "\n",
              "          const docLinkHtml = 'Like what you see? Visit the ' +\n",
              "            '<a target=\"_blank\" href=https://colab.research.google.com/notebooks/data_table.ipynb>data table notebook</a>'\n",
              "            + ' to learn more about interactive tables.';\n",
              "          element.innerHTML = '';\n",
              "          dataTable['output_type'] = 'display_data';\n",
              "          await google.colab.output.renderOutput(dataTable, element);\n",
              "          const docLink = document.createElement('div');\n",
              "          docLink.innerHTML = docLinkHtml;\n",
              "          element.appendChild(docLink);\n",
              "        }\n",
              "      </script>\n",
              "    </div>\n",
              "  </div>\n",
              "  "
            ]
          },
          "metadata": {},
          "execution_count": 11
        }
      ]
    },
    {
      "cell_type": "code",
      "source": [
        "#parsing datetime\n",
        "def parse(x):\n",
        "    return datetime.strptime(x, '%Y %m %d %H')\n",
        "                        \n",
        "df = read_csv('/content/drive/MyDrive/Datasets/pollution.csv',index_col=0, date_parser=parse,parse_dates=[['year', 'month', 'day', 'hour']])  \n"
      ],
      "metadata": {
        "id": "b3SLdav9rB4i"
      },
      "execution_count": 12,
      "outputs": []
    },
    {
      "cell_type": "code",
      "source": [
        "df.head(5)"
      ],
      "metadata": {
        "colab": {
          "base_uri": "https://localhost:8080/",
          "height": 238
        },
        "id": "d_337yM8fClv",
        "outputId": "54a315ba-7fd5-4ffa-d645-3a3b6cacfad8"
      },
      "execution_count": 13,
      "outputs": [
        {
          "output_type": "execute_result",
          "data": {
            "text/plain": [
              "                     No  pm2.5  DEWP  TEMP    PRES cbwd    Iws  Is  Ir\n",
              "year_month_day_hour                                                   \n",
              "2010-01-01 00:00:00   1    NaN   -21 -11.0  1021.0   NW   1.79   0   0\n",
              "2010-01-01 01:00:00   2    NaN   -21 -12.0  1020.0   NW   4.92   0   0\n",
              "2010-01-01 02:00:00   3    NaN   -21 -11.0  1019.0   NW   6.71   0   0\n",
              "2010-01-01 03:00:00   4    NaN   -21 -14.0  1019.0   NW   9.84   0   0\n",
              "2010-01-01 04:00:00   5    NaN   -20 -12.0  1018.0   NW  12.97   0   0"
            ],
            "text/html": [
              "\n",
              "  <div id=\"df-18b5713c-d04a-4852-a9e0-eaa367999ebd\">\n",
              "    <div class=\"colab-df-container\">\n",
              "      <div>\n",
              "<style scoped>\n",
              "    .dataframe tbody tr th:only-of-type {\n",
              "        vertical-align: middle;\n",
              "    }\n",
              "\n",
              "    .dataframe tbody tr th {\n",
              "        vertical-align: top;\n",
              "    }\n",
              "\n",
              "    .dataframe thead th {\n",
              "        text-align: right;\n",
              "    }\n",
              "</style>\n",
              "<table border=\"1\" class=\"dataframe\">\n",
              "  <thead>\n",
              "    <tr style=\"text-align: right;\">\n",
              "      <th></th>\n",
              "      <th>No</th>\n",
              "      <th>pm2.5</th>\n",
              "      <th>DEWP</th>\n",
              "      <th>TEMP</th>\n",
              "      <th>PRES</th>\n",
              "      <th>cbwd</th>\n",
              "      <th>Iws</th>\n",
              "      <th>Is</th>\n",
              "      <th>Ir</th>\n",
              "    </tr>\n",
              "    <tr>\n",
              "      <th>year_month_day_hour</th>\n",
              "      <th></th>\n",
              "      <th></th>\n",
              "      <th></th>\n",
              "      <th></th>\n",
              "      <th></th>\n",
              "      <th></th>\n",
              "      <th></th>\n",
              "      <th></th>\n",
              "      <th></th>\n",
              "    </tr>\n",
              "  </thead>\n",
              "  <tbody>\n",
              "    <tr>\n",
              "      <th>2010-01-01 00:00:00</th>\n",
              "      <td>1</td>\n",
              "      <td>NaN</td>\n",
              "      <td>-21</td>\n",
              "      <td>-11.0</td>\n",
              "      <td>1021.0</td>\n",
              "      <td>NW</td>\n",
              "      <td>1.79</td>\n",
              "      <td>0</td>\n",
              "      <td>0</td>\n",
              "    </tr>\n",
              "    <tr>\n",
              "      <th>2010-01-01 01:00:00</th>\n",
              "      <td>2</td>\n",
              "      <td>NaN</td>\n",
              "      <td>-21</td>\n",
              "      <td>-12.0</td>\n",
              "      <td>1020.0</td>\n",
              "      <td>NW</td>\n",
              "      <td>4.92</td>\n",
              "      <td>0</td>\n",
              "      <td>0</td>\n",
              "    </tr>\n",
              "    <tr>\n",
              "      <th>2010-01-01 02:00:00</th>\n",
              "      <td>3</td>\n",
              "      <td>NaN</td>\n",
              "      <td>-21</td>\n",
              "      <td>-11.0</td>\n",
              "      <td>1019.0</td>\n",
              "      <td>NW</td>\n",
              "      <td>6.71</td>\n",
              "      <td>0</td>\n",
              "      <td>0</td>\n",
              "    </tr>\n",
              "    <tr>\n",
              "      <th>2010-01-01 03:00:00</th>\n",
              "      <td>4</td>\n",
              "      <td>NaN</td>\n",
              "      <td>-21</td>\n",
              "      <td>-14.0</td>\n",
              "      <td>1019.0</td>\n",
              "      <td>NW</td>\n",
              "      <td>9.84</td>\n",
              "      <td>0</td>\n",
              "      <td>0</td>\n",
              "    </tr>\n",
              "    <tr>\n",
              "      <th>2010-01-01 04:00:00</th>\n",
              "      <td>5</td>\n",
              "      <td>NaN</td>\n",
              "      <td>-20</td>\n",
              "      <td>-12.0</td>\n",
              "      <td>1018.0</td>\n",
              "      <td>NW</td>\n",
              "      <td>12.97</td>\n",
              "      <td>0</td>\n",
              "      <td>0</td>\n",
              "    </tr>\n",
              "  </tbody>\n",
              "</table>\n",
              "</div>\n",
              "      <button class=\"colab-df-convert\" onclick=\"convertToInteractive('df-18b5713c-d04a-4852-a9e0-eaa367999ebd')\"\n",
              "              title=\"Convert this dataframe to an interactive table.\"\n",
              "              style=\"display:none;\">\n",
              "        \n",
              "  <svg xmlns=\"http://www.w3.org/2000/svg\" height=\"24px\"viewBox=\"0 0 24 24\"\n",
              "       width=\"24px\">\n",
              "    <path d=\"M0 0h24v24H0V0z\" fill=\"none\"/>\n",
              "    <path d=\"M18.56 5.44l.94 2.06.94-2.06 2.06-.94-2.06-.94-.94-2.06-.94 2.06-2.06.94zm-11 1L8.5 8.5l.94-2.06 2.06-.94-2.06-.94L8.5 2.5l-.94 2.06-2.06.94zm10 10l.94 2.06.94-2.06 2.06-.94-2.06-.94-.94-2.06-.94 2.06-2.06.94z\"/><path d=\"M17.41 7.96l-1.37-1.37c-.4-.4-.92-.59-1.43-.59-.52 0-1.04.2-1.43.59L10.3 9.45l-7.72 7.72c-.78.78-.78 2.05 0 2.83L4 21.41c.39.39.9.59 1.41.59.51 0 1.02-.2 1.41-.59l7.78-7.78 2.81-2.81c.8-.78.8-2.07 0-2.86zM5.41 20L4 18.59l7.72-7.72 1.47 1.35L5.41 20z\"/>\n",
              "  </svg>\n",
              "      </button>\n",
              "      \n",
              "  <style>\n",
              "    .colab-df-container {\n",
              "      display:flex;\n",
              "      flex-wrap:wrap;\n",
              "      gap: 12px;\n",
              "    }\n",
              "\n",
              "    .colab-df-convert {\n",
              "      background-color: #E8F0FE;\n",
              "      border: none;\n",
              "      border-radius: 50%;\n",
              "      cursor: pointer;\n",
              "      display: none;\n",
              "      fill: #1967D2;\n",
              "      height: 32px;\n",
              "      padding: 0 0 0 0;\n",
              "      width: 32px;\n",
              "    }\n",
              "\n",
              "    .colab-df-convert:hover {\n",
              "      background-color: #E2EBFA;\n",
              "      box-shadow: 0px 1px 2px rgba(60, 64, 67, 0.3), 0px 1px 3px 1px rgba(60, 64, 67, 0.15);\n",
              "      fill: #174EA6;\n",
              "    }\n",
              "\n",
              "    [theme=dark] .colab-df-convert {\n",
              "      background-color: #3B4455;\n",
              "      fill: #D2E3FC;\n",
              "    }\n",
              "\n",
              "    [theme=dark] .colab-df-convert:hover {\n",
              "      background-color: #434B5C;\n",
              "      box-shadow: 0px 1px 3px 1px rgba(0, 0, 0, 0.15);\n",
              "      filter: drop-shadow(0px 1px 2px rgba(0, 0, 0, 0.3));\n",
              "      fill: #FFFFFF;\n",
              "    }\n",
              "  </style>\n",
              "\n",
              "      <script>\n",
              "        const buttonEl =\n",
              "          document.querySelector('#df-18b5713c-d04a-4852-a9e0-eaa367999ebd button.colab-df-convert');\n",
              "        buttonEl.style.display =\n",
              "          google.colab.kernel.accessAllowed ? 'block' : 'none';\n",
              "\n",
              "        async function convertToInteractive(key) {\n",
              "          const element = document.querySelector('#df-18b5713c-d04a-4852-a9e0-eaa367999ebd');\n",
              "          const dataTable =\n",
              "            await google.colab.kernel.invokeFunction('convertToInteractive',\n",
              "                                                     [key], {});\n",
              "          if (!dataTable) return;\n",
              "\n",
              "          const docLinkHtml = 'Like what you see? Visit the ' +\n",
              "            '<a target=\"_blank\" href=https://colab.research.google.com/notebooks/data_table.ipynb>data table notebook</a>'\n",
              "            + ' to learn more about interactive tables.';\n",
              "          element.innerHTML = '';\n",
              "          dataTable['output_type'] = 'display_data';\n",
              "          await google.colab.output.renderOutput(dataTable, element);\n",
              "          const docLink = document.createElement('div');\n",
              "          docLink.innerHTML = docLinkHtml;\n",
              "          element.appendChild(docLink);\n",
              "        }\n",
              "      </script>\n",
              "    </div>\n",
              "  </div>\n",
              "  "
            ]
          },
          "metadata": {},
          "execution_count": 13
        }
      ]
    },
    {
      "cell_type": "code",
      "source": [
        "df.isnull().sum()"
      ],
      "metadata": {
        "colab": {
          "base_uri": "https://localhost:8080/"
        },
        "id": "9_nRRG2efrb-",
        "outputId": "e15b8864-4f84-44ad-e3ca-fdd8e998ae17"
      },
      "execution_count": 14,
      "outputs": [
        {
          "output_type": "execute_result",
          "data": {
            "text/plain": [
              "No          0\n",
              "pm2.5    2067\n",
              "DEWP        0\n",
              "TEMP        0\n",
              "PRES        0\n",
              "cbwd        0\n",
              "Iws         0\n",
              "Is          0\n",
              "Ir          0\n",
              "dtype: int64"
            ]
          },
          "metadata": {},
          "execution_count": 14
        }
      ]
    },
    {
      "cell_type": "code",
      "source": [
        "# Data cleaning\n",
        "col_names = ['pollution', 'dew', 'temp', 'pressure', 'wind_dir', 'wind_speed', 'snow', 'rain']   \n",
        "df.drop('No', axis=1, inplace=True)\n",
        "df.columns = col_names\n",
        "df = df[24:] # droped the first day as the values are nan \n",
        "df['pollution'].fillna(0, inplace=True)#replaced rest of the nan values \n",
        "print(df.head(5))\n",
        "df.to_csv('pollution_data.csv') # save new CSV"
      ],
      "metadata": {
        "colab": {
          "base_uri": "https://localhost:8080/"
        },
        "id": "hfhAlPHirlCZ",
        "outputId": "d1fd2c3d-58dd-4710-dd08-b2b7e1574dd2"
      },
      "execution_count": 15,
      "outputs": [
        {
          "output_type": "stream",
          "name": "stdout",
          "text": [
            "                     pollution  dew  temp  pressure wind_dir  wind_speed  \\\n",
            "year_month_day_hour                                                        \n",
            "2010-01-02 00:00:00      129.0  -16  -4.0    1020.0       SE        1.79   \n",
            "2010-01-02 01:00:00      148.0  -15  -4.0    1020.0       SE        2.68   \n",
            "2010-01-02 02:00:00      159.0  -11  -5.0    1021.0       SE        3.57   \n",
            "2010-01-02 03:00:00      181.0   -7  -5.0    1022.0       SE        5.36   \n",
            "2010-01-02 04:00:00      138.0   -7  -5.0    1022.0       SE        6.25   \n",
            "\n",
            "                     snow  rain  \n",
            "year_month_day_hour              \n",
            "2010-01-02 00:00:00     0     0  \n",
            "2010-01-02 01:00:00     0     0  \n",
            "2010-01-02 02:00:00     0     0  \n",
            "2010-01-02 03:00:00     1     0  \n",
            "2010-01-02 04:00:00     2     0  \n"
          ]
        }
      ]
    },
    {
      "cell_type": "code",
      "source": [
        "dataset = read_csv('pollution_data.csv', header=0, index_col=0)\n",
        "values = dataset.values\n",
        "# wind direction is categorical so label encoded it\n",
        "encoder = LabelEncoder()\n",
        "values[:,4] = encoder.fit_transform(values[:,4])\n",
        "# ensure all data is float\n",
        "values = values.astype('float32')\n",
        "# normalized the features\n",
        "scaler = MinMaxScaler(feature_range=(0, 1))\n",
        "scaled_dataset = scaler.fit_transform(values)\n",
        "scaled_dataset\n"
      ],
      "metadata": {
        "id": "B5J6FKvEbAWY",
        "colab": {
          "base_uri": "https://localhost:8080/"
        },
        "outputId": "f6455398-4d76-451f-b365-0051f5dbd046"
      },
      "execution_count": 16,
      "outputs": [
        {
          "output_type": "execute_result",
          "data": {
            "text/plain": [
              "array([[0.12977867, 0.35294122, 0.24590163, ..., 0.00229001, 0.        ,\n",
              "        0.        ],\n",
              "       [0.14889336, 0.36764708, 0.24590163, ..., 0.00381099, 0.        ,\n",
              "        0.        ],\n",
              "       [0.15995975, 0.4264706 , 0.22950819, ..., 0.00533197, 0.        ,\n",
              "        0.        ],\n",
              "       ...,\n",
              "       [0.01006036, 0.2647059 , 0.26229507, ..., 0.41399646, 0.        ,\n",
              "        0.        ],\n",
              "       [0.00804829, 0.2647059 , 0.24590163, ..., 0.4208665 , 0.        ,\n",
              "        0.        ],\n",
              "       [0.01207243, 0.2794118 , 0.26229507, ..., 0.42621556, 0.        ,\n",
              "        0.        ]], dtype=float32)"
            ]
          },
          "metadata": {},
          "execution_count": 16
        }
      ]
    },
    {
      "cell_type": "code",
      "source": [
        "#Creating a window for previous data\n",
        "def to_supervised(train):\n",
        "  window_size = 4\n",
        "  X = []\n",
        "  Y = []\n",
        "  for i in range(window_size, len(train)):\n",
        "    X.append(train[i-window_size:i,:])\n",
        "    Y.append(train[i,0:1])\n",
        "    \n",
        "  return X,Y\n"
      ],
      "metadata": {
        "id": "CvSmvStKhL8o"
      },
      "execution_count": 17,
      "outputs": []
    },
    {
      "cell_type": "code",
      "source": [
        "X, Y = to_supervised(scaled_dataset)\n",
        "X = np.array(X)\n",
        "Y = np.array(Y)\n",
        "print('Y' ,Y.shape)\n",
        "print('X' ,X.shape)"
      ],
      "metadata": {
        "colab": {
          "base_uri": "https://localhost:8080/"
        },
        "id": "ZsuMRmZ_hVd0",
        "outputId": "16d20d75-f0a0-44d9-ba79-1ec7b6a4e21f"
      },
      "execution_count": 18,
      "outputs": [
        {
          "output_type": "stream",
          "name": "stdout",
          "text": [
            "Y (43796, 1)\n",
            "X (43796, 4, 8)\n"
          ]
        }
      ]
    },
    {
      "cell_type": "code",
      "source": [
        "#Splitting the dataset\n",
        "n_train = 24*365\n",
        "train_X, test_X = X[n_train:,] , X[:n_train,]\n",
        "print('train_X' ,train_X.shape)\n",
        "print('test_X' ,test_X.shape)\n",
        "\n",
        "train_y, test_y = Y[n_train:,] , Y[:n_train,]\n",
        "print('train_y' ,train_y.shape)\n",
        "print('test_y' ,test_y.shape)\n"
      ],
      "metadata": {
        "colab": {
          "base_uri": "https://localhost:8080/"
        },
        "id": "amX0Q9JqbMEB",
        "outputId": "008b6114-d599-4309-9eac-e9b2412a08c1"
      },
      "execution_count": 19,
      "outputs": [
        {
          "output_type": "stream",
          "name": "stdout",
          "text": [
            "train_X (35036, 4, 8)\n",
            "test_X (8760, 4, 8)\n",
            "train_y (35036, 1)\n",
            "test_y (8760, 1)\n"
          ]
        }
      ]
    },
    {
      "cell_type": "markdown",
      "source": [
        "Model with GRU"
      ],
      "metadata": {
        "id": "zmHrcACWppZc"
      }
    },
    {
      "cell_type": "code",
      "source": [
        "# model\n",
        "model_gru = Sequential()\n",
        "model_gru.add(GRU(50, input_shape=(train_X.shape[1], train_X.shape[2])))\n",
        "model_gru.add(Dropout(0.2))\n",
        "\n",
        "model_gru.add(Dense(units = 1))\n",
        "model_gru.compile(loss='mae', optimizer='adam')\n",
        "# fit network\n",
        "history = model_gru.fit(train_X, train_y, epochs=50, batch_size=72, validation_data=(test_X, test_y), verbose=2, shuffle=False)"
      ],
      "metadata": {
        "colab": {
          "base_uri": "https://localhost:8080/"
        },
        "id": "KcCNvmc4ZAbq",
        "outputId": "53d54298-9be0-4893-f321-01b8834f4348"
      },
      "execution_count": 20,
      "outputs": [
        {
          "output_type": "stream",
          "name": "stdout",
          "text": [
            "Epoch 1/50\n",
            "487/487 - 4s - loss: 0.0476 - val_loss: 0.0258 - 4s/epoch - 7ms/step\n",
            "Epoch 2/50\n",
            "487/487 - 1s - loss: 0.0230 - val_loss: 0.0194 - 1s/epoch - 3ms/step\n",
            "Epoch 3/50\n",
            "487/487 - 1s - loss: 0.0184 - val_loss: 0.0163 - 1s/epoch - 3ms/step\n",
            "Epoch 4/50\n",
            "487/487 - 1s - loss: 0.0170 - val_loss: 0.0154 - 1s/epoch - 3ms/step\n",
            "Epoch 5/50\n",
            "487/487 - 1s - loss: 0.0157 - val_loss: 0.0159 - 1s/epoch - 3ms/step\n",
            "Epoch 6/50\n",
            "487/487 - 1s - loss: 0.0152 - val_loss: 0.0169 - 1s/epoch - 3ms/step\n",
            "Epoch 7/50\n",
            "487/487 - 1s - loss: 0.0148 - val_loss: 0.0149 - 1s/epoch - 3ms/step\n",
            "Epoch 8/50\n",
            "487/487 - 1s - loss: 0.0148 - val_loss: 0.0159 - 1s/epoch - 3ms/step\n",
            "Epoch 9/50\n",
            "487/487 - 1s - loss: 0.0147 - val_loss: 0.0170 - 1s/epoch - 3ms/step\n",
            "Epoch 10/50\n",
            "487/487 - 1s - loss: 0.0146 - val_loss: 0.0156 - 1s/epoch - 3ms/step\n",
            "Epoch 11/50\n",
            "487/487 - 1s - loss: 0.0147 - val_loss: 0.0151 - 1s/epoch - 3ms/step\n",
            "Epoch 12/50\n",
            "487/487 - 1s - loss: 0.0146 - val_loss: 0.0164 - 1s/epoch - 3ms/step\n",
            "Epoch 13/50\n",
            "487/487 - 1s - loss: 0.0144 - val_loss: 0.0165 - 1s/epoch - 3ms/step\n",
            "Epoch 14/50\n",
            "487/487 - 1s - loss: 0.0143 - val_loss: 0.0188 - 1s/epoch - 3ms/step\n",
            "Epoch 15/50\n",
            "487/487 - 2s - loss: 0.0143 - val_loss: 0.0175 - 2s/epoch - 3ms/step\n",
            "Epoch 16/50\n",
            "487/487 - 1s - loss: 0.0144 - val_loss: 0.0176 - 1s/epoch - 3ms/step\n",
            "Epoch 17/50\n",
            "487/487 - 1s - loss: 0.0143 - val_loss: 0.0163 - 1s/epoch - 3ms/step\n",
            "Epoch 18/50\n",
            "487/487 - 1s - loss: 0.0143 - val_loss: 0.0171 - 1s/epoch - 3ms/step\n",
            "Epoch 19/50\n",
            "487/487 - 1s - loss: 0.0143 - val_loss: 0.0163 - 1s/epoch - 3ms/step\n",
            "Epoch 20/50\n",
            "487/487 - 1s - loss: 0.0143 - val_loss: 0.0153 - 1s/epoch - 3ms/step\n",
            "Epoch 21/50\n",
            "487/487 - 1s - loss: 0.0143 - val_loss: 0.0177 - 1s/epoch - 3ms/step\n",
            "Epoch 22/50\n",
            "487/487 - 1s - loss: 0.0143 - val_loss: 0.0158 - 1s/epoch - 3ms/step\n",
            "Epoch 23/50\n",
            "487/487 - 1s - loss: 0.0142 - val_loss: 0.0171 - 1s/epoch - 3ms/step\n",
            "Epoch 24/50\n",
            "487/487 - 1s - loss: 0.0141 - val_loss: 0.0177 - 1s/epoch - 3ms/step\n",
            "Epoch 25/50\n",
            "487/487 - 1s - loss: 0.0141 - val_loss: 0.0167 - 1s/epoch - 3ms/step\n",
            "Epoch 26/50\n",
            "487/487 - 2s - loss: 0.0141 - val_loss: 0.0180 - 2s/epoch - 3ms/step\n",
            "Epoch 27/50\n",
            "487/487 - 1s - loss: 0.0142 - val_loss: 0.0169 - 1s/epoch - 3ms/step\n",
            "Epoch 28/50\n",
            "487/487 - 1s - loss: 0.0142 - val_loss: 0.0165 - 1s/epoch - 3ms/step\n",
            "Epoch 29/50\n",
            "487/487 - 1s - loss: 0.0141 - val_loss: 0.0177 - 1s/epoch - 3ms/step\n",
            "Epoch 30/50\n",
            "487/487 - 1s - loss: 0.0140 - val_loss: 0.0179 - 1s/epoch - 3ms/step\n",
            "Epoch 31/50\n",
            "487/487 - 1s - loss: 0.0141 - val_loss: 0.0175 - 1s/epoch - 3ms/step\n",
            "Epoch 32/50\n",
            "487/487 - 1s - loss: 0.0141 - val_loss: 0.0165 - 1s/epoch - 3ms/step\n",
            "Epoch 33/50\n",
            "487/487 - 1s - loss: 0.0141 - val_loss: 0.0179 - 1s/epoch - 3ms/step\n",
            "Epoch 34/50\n",
            "487/487 - 1s - loss: 0.0141 - val_loss: 0.0168 - 1s/epoch - 3ms/step\n",
            "Epoch 35/50\n",
            "487/487 - 1s - loss: 0.0141 - val_loss: 0.0173 - 1s/epoch - 3ms/step\n",
            "Epoch 36/50\n",
            "487/487 - 1s - loss: 0.0140 - val_loss: 0.0174 - 1s/epoch - 3ms/step\n",
            "Epoch 37/50\n",
            "487/487 - 1s - loss: 0.0140 - val_loss: 0.0174 - 1s/epoch - 3ms/step\n",
            "Epoch 38/50\n",
            "487/487 - 1s - loss: 0.0140 - val_loss: 0.0171 - 1s/epoch - 3ms/step\n",
            "Epoch 39/50\n",
            "487/487 - 2s - loss: 0.0141 - val_loss: 0.0171 - 2s/epoch - 3ms/step\n",
            "Epoch 40/50\n",
            "487/487 - 1s - loss: 0.0141 - val_loss: 0.0166 - 1s/epoch - 3ms/step\n",
            "Epoch 41/50\n",
            "487/487 - 1s - loss: 0.0140 - val_loss: 0.0172 - 1s/epoch - 3ms/step\n",
            "Epoch 42/50\n",
            "487/487 - 1s - loss: 0.0140 - val_loss: 0.0167 - 1s/epoch - 3ms/step\n",
            "Epoch 43/50\n",
            "487/487 - 1s - loss: 0.0140 - val_loss: 0.0156 - 1s/epoch - 3ms/step\n",
            "Epoch 44/50\n",
            "487/487 - 1s - loss: 0.0140 - val_loss: 0.0172 - 1s/epoch - 3ms/step\n",
            "Epoch 45/50\n",
            "487/487 - 1s - loss: 0.0139 - val_loss: 0.0176 - 1s/epoch - 3ms/step\n",
            "Epoch 46/50\n",
            "487/487 - 1s - loss: 0.0140 - val_loss: 0.0172 - 1s/epoch - 3ms/step\n",
            "Epoch 47/50\n",
            "487/487 - 1s - loss: 0.0140 - val_loss: 0.0160 - 1s/epoch - 3ms/step\n",
            "Epoch 48/50\n",
            "487/487 - 1s - loss: 0.0140 - val_loss: 0.0156 - 1s/epoch - 3ms/step\n",
            "Epoch 49/50\n",
            "487/487 - 1s - loss: 0.0139 - val_loss: 0.0175 - 1s/epoch - 3ms/step\n",
            "Epoch 50/50\n",
            "487/487 - 1s - loss: 0.0140 - val_loss: 0.0164 - 1s/epoch - 3ms/step\n"
          ]
        }
      ]
    },
    {
      "cell_type": "code",
      "source": [
        "# plot history\n",
        "pyplot.plot(history.history['loss'], label='train')\n",
        "pyplot.plot(history.history['val_loss'], label='test')\n",
        "pyplot.legend()\n",
        "pyplot.show()"
      ],
      "metadata": {
        "colab": {
          "base_uri": "https://localhost:8080/",
          "height": 265
        },
        "id": "DkLtb_RJZAeT",
        "outputId": "db0fa9f8-9c0b-41c0-80de-55ab9c07e281"
      },
      "execution_count": 21,
      "outputs": [
        {
          "output_type": "display_data",
          "data": {
            "text/plain": [
              "<Figure size 432x288 with 1 Axes>"
            ],
            "image/png": "[encoded data removed]"
          },
          "metadata": {
            "needs_background": "light"
          }
        }
      ]
    },
    {
      "cell_type": "code",
      "source": [
        "Y_pred = model_gru.predict(test_X)"
      ],
      "metadata": {
        "id": "0MVMclGhtm8o"
      },
      "execution_count": 22,
      "outputs": []
    },
    {
      "cell_type": "code",
      "source": [
        "#Scaling back to the original scale\n",
        "d = scaled_dataset[:8760,:]\n",
        "Y_predicted = np.concatenate((Y_pred,d[:8760,1:]), axis =1)\n",
        "print('concat y_pred',Y_pred.shape)\n",
        "Y_tested = np.concatenate((test_y, d[:8760,1:]), axis = 1)\n",
        "print('concat Y_test', test_y.shape)"
      ],
      "metadata": {
        "colab": {
          "base_uri": "https://localhost:8080/"
        },
        "id": "pdhc8Su4ZAhD",
        "outputId": "6707f679-7401-4741-e2a2-0ef1a230d1a8"
      },
      "execution_count": 23,
      "outputs": [
        {
          "output_type": "stream",
          "name": "stdout",
          "text": [
            "concat y_pred (8760, 1)\n",
            "concat Y_test (8760, 1)\n"
          ]
        }
      ]
    },
    {
      "cell_type": "code",
      "source": [
        "Y_predicted = scaler.inverse_transform(Y_predicted)\n",
        "Y_tested = scaler.inverse_transform(Y_tested)\n",
        "Y_predicted = Y_predicted[:,0:1]\n",
        "Y_tested = Y_tested[:,0:1]\n",
        "print('Y_tested', Y_tested.shape)\n",
        "print('Y_predicted', Y_predicted.shape)"
      ],
      "metadata": {
        "colab": {
          "base_uri": "https://localhost:8080/"
        },
        "id": "KoQwDrvxZAkC",
        "outputId": "92a64084-0a08-43f0-d527-69261a54e965"
      },
      "execution_count": 24,
      "outputs": [
        {
          "output_type": "stream",
          "name": "stdout",
          "text": [
            "Y_tested (8760, 1)\n",
            "Y_predicted (8760, 1)\n"
          ]
        }
      ]
    },
    {
      "cell_type": "code",
      "source": [
        "#Plot the graph between actual vs predicted values\n",
        "pyplot.figure(figsize=(10,6))  \n",
        "pyplot.plot(Y_predicted[:100,:], color= 'blue',label = 'Predicted Pollution level')\n",
        "pyplot.plot(Y_tested[:100,:] , color = 'green',label = 'Actual Pollution level')\n",
        "pyplot.title(\"Air Pollution Prediction (Multivariate)\")\n",
        "pyplot.xlabel(\"Date\")\n",
        "pyplot.ylabel(\"Pollution level\")\n",
        "pyplot.legend()\n",
        "pyplot.show()\n",
        "pyplot.savefig('graph.png')"
      ],
      "metadata": {
        "colab": {
          "base_uri": "https://localhost:8080/",
          "height": 421
        },
        "id": "KB4TLHLeZAmu",
        "outputId": "f810a392-c60a-4f71-eda0-611de1cc4c49"
      },
      "execution_count": 25,
      "outputs": [
        {
          "output_type": "display_data",
          "data": {
            "text/plain": [
              "<Figure size 720x432 with 1 Axes>"
            ],
            "image/png": "[encoded data removed]"
          },
          "metadata": {
            "needs_background": "light"
          }
        },
        {
          "output_type": "display_data",
          "data": {
            "text/plain": [
              "<Figure size 432x288 with 0 Axes>"
            ]
          },
          "metadata": {}
        }
      ]
    }
  ]
}